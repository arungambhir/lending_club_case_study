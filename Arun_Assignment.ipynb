{
 "cells": [
  {
   "cell_type": "markdown",
   "id": "4bbb69e5-6b29-4b83-a31d-8faef251af40",
   "metadata": {},
   "source": [
    "## This is the assignment on multiple linear regression to predict the sale of bikes based on the avaialble data.\n",
    "\n",
    "## lets follow the steps to know what the final model.\n"
   ]
  },
  {
   "cell_type": "markdown",
   "id": "7541f000-fc6e-4b93-83a4-c1d0235a3ba7",
   "metadata": {},
   "source": [
    "## 1. Import Library"
   ]
  },
  {
   "cell_type": "code",
   "execution_count": null,
   "id": "7c9491a2-3717-4ac5-9ebf-3aebeec02652",
   "metadata": {},
   "outputs": [],
   "source": [
    "import numpy as np\n",
    "import pandas as pd\n",
    "import matplotlib.pyplot as plt\n",
    "import seaborn as sns\n",
    "\n",
    "import sklearn\n",
    "from sklearn.model_selection import train_test_split\n",
    "from sklearn.preprocessing import MinMaxScaler\n",
    "\n",
    "import statsmodels.api as sm\n",
    "from statsmodels.stats.outliers_influence import variance_inflation_factor\n",
    "\n",
    "import warnings\n",
    "warnings.filterwarnings('ignore')"
   ]
  },
  {
   "cell_type": "markdown",
   "id": "9a28f9ff-6c58-47b1-845e-8cca00487d00",
   "metadata": {},
   "source": [
    "## 2. Reading, understanding, cleaning & visualizing the data"
   ]
  },
  {
   "cell_type": "code",
   "execution_count": null,
   "id": "4813a668-817d-453b-b99e-483b2935be81",
   "metadata": {},
   "outputs": [],
   "source": [
    "## Step 1 - Reading, Understanding & visualizing the data\n",
    "df = pd.read_csv('day.csv')"
   ]
  },
  {
   "cell_type": "code",
   "execution_count": null,
   "id": "56ca6b5b-11c8-44d3-bd16-ef04a926b9b9",
   "metadata": {},
   "outputs": [],
   "source": [
    "df.head()"
   ]
  },
  {
   "cell_type": "code",
   "execution_count": null,
   "id": "d02fd7d1-0184-4386-a92d-1ae34e7394c0",
   "metadata": {},
   "outputs": [],
   "source": [
    "df.describe()"
   ]
  },
  {
   "cell_type": "code",
   "execution_count": null,
   "id": "7d7af6f2-60f4-4d89-99fb-2cf4701f47ee",
   "metadata": {},
   "outputs": [],
   "source": [
    "df.info()\n",
    "#There is no null values which is good"
   ]
  },
  {
   "cell_type": "code",
   "execution_count": null,
   "id": "27a2fc0d-9424-4327-9280-88d1e4c723a4",
   "metadata": {},
   "outputs": [],
   "source": [
    "# remove the columns that are not requried, like-  casual/registred as as we only have to use cnt as output field.\n",
    "#we don't require the instant field as it just index, from dteday we have already taken the year, month, day details out so we can drop those as well.\n",
    "df.drop(['registered', 'casual', 'dteday', 'instant'], axis=1, inplace=True)"
   ]
  },
  {
   "cell_type": "markdown",
   "id": "ebfbe315-7424-4fc8-9030-627d92643ea2",
   "metadata": {},
   "source": [
    "### Correcting the data with proper name"
   ]
  },
  {
   "cell_type": "code",
   "execution_count": null,
   "id": "19f1e94d-c177-493e-91ed-de31a816e5dd",
   "metadata": {},
   "outputs": [],
   "source": [
    "# update name of categorical value to proper names-\n",
    "\n",
    "#Season\n",
    "def map_seasons(df, column_name):\n",
    "    season_mapping = {1:\"spring\", 2:\"summer\", 3:\"fall\", 4:\"winter\"}\n",
    "    return df[column_name].map(season_mapping)\n",
    "\n",
    "#Month\n",
    "def map_month(df, column_name):\n",
    "    month_mapping = {1:\"Jan\", 2:\"Feb\", 3:\"Mar\", 4:\"Apr\", 5:\"May\", 6:\"Jun\", 7:\"Jul\", 8:\"Aug\", 9:\"Sep\", 10:\"Oct\", 11:\"Nov\", 12:\"Dec\"}\n",
    "    return df[column_name].map(month_mapping)\n",
    "\n",
    "#Weekday\n",
    "def map_weekday(df, column_name):\n",
    "    weekday_mapping = {0:\"Sunday\", 1:\"Monday\", 2:\"Tuesday\", 3:\"Wednesday\", 4:\"Thursday\", 5:\"Friday\", 6:\"Saturday\"}\n",
    "    return df[column_name].map(weekday_mapping)\n",
    "\n",
    "#weathersit\n",
    "def map_weathersit(df, column_name):\n",
    "    weathersit_mapping = {1:\"Clear\", 2:\"Mist\", 3:\"Snow\", 4:\"Rain\"}\n",
    "    return df[column_name].map(weathersit_mapping)\n",
    "\n",
    "df['season'] = map_seasons(df, 'season')\n",
    "df['mnth'] = map_month(df, 'mnth')\n",
    "df['weekday'] = map_weekday(df, 'weekday')\n",
    "df['weathersit'] = map_weathersit(df, 'weathersit')\n",
    "\n",
    "\n",
    "df.head()"
   ]
  },
  {
   "cell_type": "markdown",
   "id": "42815c88-4bb0-477b-bdb8-8eabd1aebed0",
   "metadata": {},
   "source": [
    "### EDA"
   ]
  },
  {
   "cell_type": "code",
   "execution_count": null,
   "id": "3b2fb237-5dd1-411a-ac60-abf4a2dfcdca",
   "metadata": {},
   "outputs": [],
   "source": [
    "#box plot for categorical columns - Season, month , weekday & weathersit   \n",
    "def display_boxplot(df, x_column, y_column):\n",
    "    sns.boxplot(x= df[x_column], y = df[y_column])\n",
    "    plt.show()"
   ]
  },
  {
   "cell_type": "code",
   "execution_count": null,
   "id": "23d790ef-157a-4625-8427-04f477747216",
   "metadata": {},
   "outputs": [],
   "source": [
    "display_boxplot(df, \"season\",\"cnt\")\n",
    "display_boxplot(df, \"mnth\",\"cnt\")\n",
    "display_boxplot(df, \"weekday\",\"cnt\")\n",
    "display_boxplot(df, \"weathersit\",\"cnt\")\n",
    "display_boxplot(df, \"yr\",\"cnt\")\n",
    "display_boxplot(df, \"holiday\",\"cnt\")\n",
    "display_boxplot(df, \"workingday\",\"cnt\")"
   ]
  },
  {
   "cell_type": "markdown",
   "id": "85adc0bd-6b6d-465f-9f78-9d8575b98d9a",
   "metadata": {},
   "source": [
    "### Findings-\n",
    "#### Spring has least sales followed by winter & Summer/falls have max sale of biles\n",
    "#### Nov Dec Jan & Feb has comparatively low sales.\n",
    "#### We have no sales during Rain & lowest when it Snows.\n",
    "#### 2019 was great in term of sales.\n",
    "#### During non holiday we have better sales.\n",
    "\n"
   ]
  },
  {
   "cell_type": "code",
   "execution_count": null,
   "id": "59f223e9-18d0-40e9-b9f2-86ab2832f1ba",
   "metadata": {},
   "outputs": [],
   "source": [
    "# Visualize the numerical data\n",
    "sns.pairplot(df[[\"temp\",\"atemp\",\"hum\",\"windspeed\",\"cnt\"]])\n",
    "plt.show()"
   ]
  },
  {
   "cell_type": "markdown",
   "id": "c6b0ddf4-c1b9-42a8-931a-699298d99eb1",
   "metadata": {},
   "source": [
    "### Findings-\n",
    "#### temperature & atemp have positive inclination towards sale, more the temp more the sale.\n",
    "#### humidity & windspeed are not impacting the sale based on this graph.\n",
    "\n",
    "### Actions-\n",
    "#### We can remove temp & keep only atemp as both are highly correlated, so keeping both will not help much."
   ]
  },
  {
   "cell_type": "markdown",
   "id": "17517480-28f4-4f09-a2c4-92f15eef802c",
   "metadata": {},
   "source": [
    "### Creating Dummy Variables"
   ]
  },
  {
   "cell_type": "code",
   "execution_count": null,
   "id": "6f9e832b-212a-42cf-bc3b-5189f45af124",
   "metadata": {},
   "outputs": [],
   "source": [
    "# Now lets make these categorical as dummy variable -season,mnth,weekday,weathersit\n",
    "#create season dummy variables for the model\n",
    "seasons = pd.get_dummies(df.season , drop_first=True, dtype=int)\n",
    "mnth = pd.get_dummies(df.mnth , drop_first=True, dtype=int)\n",
    "weekday = pd.get_dummies(df.weekday , drop_first=True, dtype=int)\n",
    "weathersit = pd.get_dummies(df.weathersit , drop_first=True, dtype=int)\n",
    "\n",
    "\n",
    "seasons.head()"
   ]
  },
  {
   "cell_type": "code",
   "execution_count": null,
   "id": "f000a865-3b77-422c-b56a-2ab5b24de9e7",
   "metadata": {},
   "outputs": [],
   "source": [
    "weekday.head()"
   ]
  },
  {
   "cell_type": "code",
   "execution_count": null,
   "id": "bec91e3b-4ec2-44a6-9a6a-d6d378c5e93a",
   "metadata": {},
   "outputs": [],
   "source": [
    "weathersit.head()"
   ]
  },
  {
   "cell_type": "code",
   "execution_count": null,
   "id": "4a02bd0d-132e-488e-880a-7b7aaaa65425",
   "metadata": {},
   "outputs": [],
   "source": [
    "#let concat these new fiels & remove the exising field-\n",
    "df = pd.concat([df, seasons,mnth,weekday,weathersit] ,axis=1)\n",
    "df.head()"
   ]
  },
  {
   "cell_type": "code",
   "execution_count": null,
   "id": "ca7a78cb-6de3-4fe8-8f78-0e8dc80f8c95",
   "metadata": {},
   "outputs": [],
   "source": [
    "# lets drop the fields we got dummy field from & the weekday feild\n",
    "#for month I am not sure if requred will add later.\n",
    "df.drop(['season', 'weathersit', 'weekday', 'mnth'], axis=1, inplace=True)\n",
    "df.head()"
   ]
  },
  {
   "cell_type": "markdown",
   "id": "e9e1bf65-97ea-4fdc-9e4d-852a2c24a639",
   "metadata": {},
   "source": [
    "## 3. Preparing the data for modelling (train- test split, rescaling)"
   ]
  },
  {
   "cell_type": "code",
   "execution_count": null,
   "id": "7664ed57-7eb7-44e7-8af6-6ec41c6cb72a",
   "metadata": {},
   "outputs": [],
   "source": [
    "# split the data in train & test\n",
    "df_train, df_test = train_test_split(df,train_size=0.7,random_state=100)\n",
    "print(df_train.shape)\n",
    "print(df_test.shape)\n"
   ]
  },
  {
   "cell_type": "code",
   "execution_count": null,
   "id": "90b51bd0-73b5-4a96-8072-84ce7c27c4a7",
   "metadata": {},
   "outputs": [],
   "source": [
    "# we have atemp whose value is different from others, so they need to scaled to match the other fields-\n",
    "scaler = MinMaxScaler()\n",
    "#apply scaler to all categorical columns- temp\tatemp\thum\twindspeed\tcnt\t\n",
    "num_vars = ['temp','atemp', 'hum', 'windspeed','cnt']\n",
    "df_train[num_vars] = scaler.fit_transform(df_train[num_vars])\n",
    "df_train.head()"
   ]
  },
  {
   "cell_type": "code",
   "execution_count": null,
   "id": "4ce39955-16ee-44f6-9102-cf912cf01b02",
   "metadata": {},
   "outputs": [],
   "source": [
    "df_train.describe()"
   ]
  },
  {
   "cell_type": "markdown",
   "id": "a2327a98-cdb8-463d-bdab-c4ce6d0d69bb",
   "metadata": {},
   "source": [
    "### Training the model"
   ]
  },
  {
   "cell_type": "code",
   "execution_count": null,
   "id": "389f2330-a76f-4057-9217-b11a6e8be240",
   "metadata": {},
   "outputs": [],
   "source": [
    "plt.figure(figsize=(30,20))\n",
    "sns.heatmap(df_train.corr(), annot=True, cmap=\"YlGnBu\")\n",
    "plt.show()"
   ]
  },
  {
   "cell_type": "code",
   "execution_count": null,
   "id": "92f73931-ef1a-461e-852e-c37fa5dfc146",
   "metadata": {},
   "outputs": [],
   "source": [
    "df_train.head(2)"
   ]
  },
  {
   "cell_type": "code",
   "execution_count": null,
   "id": "38fa5c98-1ec7-4cd0-97fe-ee61eb45270d",
   "metadata": {},
   "outputs": [],
   "source": [
    "# Diving into X & y set for model building\n",
    "y_train = df_train.pop('cnt')\n",
    "X_train = df_train\n"
   ]
  },
  {
   "cell_type": "code",
   "execution_count": null,
   "id": "a23a25c7-9488-4bb6-b2cf-fcf8030e72eb",
   "metadata": {},
   "outputs": [],
   "source": [
    "X_train.head()"
   ]
  },
  {
   "cell_type": "code",
   "execution_count": null,
   "id": "a5c1aafb-6f29-434e-9812-1adf891f1b1b",
   "metadata": {},
   "outputs": [],
   "source": [
    "# Building the model using stats model learn"
   ]
  },
  {
   "cell_type": "markdown",
   "id": "8e7c352a-57d3-47f1-a61c-bb23e2ee1ce1",
   "metadata": {},
   "source": [
    "## 4. Model Generation"
   ]
  },
  {
   "cell_type": "markdown",
   "id": "a5d8cc84-5a48-4fee-ad40-ef159e4b36cb",
   "metadata": {},
   "source": [
    "### Model 1 with all the fields."
   ]
  },
  {
   "cell_type": "code",
   "execution_count": null,
   "id": "1e5aea2f-9039-42fd-97a4-a70c1d550c77",
   "metadata": {},
   "outputs": [],
   "source": [
    "X_train_model1 = sm.add_constant(X_train)\n",
    "lm_model1 = sm.OLS(y_train,X_train_model1).fit()\n",
    "lm_model1.summary()"
   ]
  },
  {
   "cell_type": "code",
   "execution_count": null,
   "id": "9cbd466e-12b2-425e-b3e1-4271f8cd2186",
   "metadata": {},
   "outputs": [],
   "source": [
    "# In model 1 we have many fields having high p-values, Let reduce the count using RFE"
   ]
  },
  {
   "cell_type": "markdown",
   "id": "7f74f822-e8b3-49d1-9acd-14d65298d1a3",
   "metadata": {},
   "source": [
    "### Model 2 - RFE\n"
   ]
  },
  {
   "cell_type": "code",
   "execution_count": null,
   "id": "a433b5a3-fc64-40a4-b63d-f173056cbf56",
   "metadata": {},
   "outputs": [],
   "source": [
    "# Importing RFE and LinearRegression\n",
    "from sklearn.feature_selection import RFE\n",
    "from sklearn.linear_model import LinearRegression\n",
    "\n",
    "# Running RFE with the output number of the variable equal to 15\n",
    "lm = LinearRegression()\n",
    "lm.fit(X_train, y_train)\n",
    "\n",
    "steps_to_select = 10\n",
    "rfe = RFE(estimator=lm, step=steps_to_select)\n",
    "rfe = rfe.fit(X_train, y_train)"
   ]
  },
  {
   "cell_type": "code",
   "execution_count": null,
   "id": "10371475-cdc6-4c07-82f7-f62805ea0dc4",
   "metadata": {},
   "outputs": [],
   "source": [
    "list(zip(X_train.columns,rfe.support_,rfe.ranking_))"
   ]
  },
  {
   "cell_type": "code",
   "execution_count": null,
   "id": "71cb5bb0-9caf-4184-aa87-ffa9ad8a679f",
   "metadata": {},
   "outputs": [],
   "source": [
    "col = X_train.columns[rfe.support_]\n",
    "col"
   ]
  },
  {
   "cell_type": "code",
   "execution_count": null,
   "id": "13db27ae-7508-4d34-a6d9-eb96c9978a09",
   "metadata": {},
   "outputs": [],
   "source": [
    "#Dropping these which are rejected by RFE & making the model on top of others\n",
    "X_train.columns[~rfe.support_]"
   ]
  },
  {
   "cell_type": "code",
   "execution_count": null,
   "id": "1cddeb46-9486-4ffa-a0c7-77fac9eb2d55",
   "metadata": {},
   "outputs": [],
   "source": [
    "X_train_model2 = X_train[col]"
   ]
  },
  {
   "cell_type": "code",
   "execution_count": null,
   "id": "527d4621-edff-4a1f-a9e5-895e0d01b041",
   "metadata": {},
   "outputs": [],
   "source": [
    "X_train_model2 = sm.add_constant(X_train_model2)\n",
    "\n",
    "lm_model2 = sm.OLS(y_train,X_train_model2).fit()\n",
    "\n",
    "lm_model2.summary()\n"
   ]
  },
  {
   "cell_type": "markdown",
   "id": "e41670f8-562b-43d9-ae97-5af7a7a5b996",
   "metadata": {},
   "source": [
    "### VIF"
   ]
  },
  {
   "cell_type": "code",
   "execution_count": null,
   "id": "c7e079f4-0caa-4e25-bd56-2ef612789b86",
   "metadata": {},
   "outputs": [],
   "source": [
    "def calculate_VIF( X_train_new):\n",
    "    vif = pd.DataFrame()\n",
    "    X = X_train_new\n",
    "    vif['Features'] = X.columns\n",
    "    vif['VIF'] = [variance_inflation_factor(X.values, i) for i in range(X.shape[1])]\n",
    "    vif['VIF'] = round(vif['VIF'], 2)\n",
    "    vif = vif.sort_values(by = 'VIF', ascending= False)\n",
    "    display(vif)"
   ]
  },
  {
   "cell_type": "code",
   "execution_count": null,
   "id": "27e37473-8127-4a3b-b4ad-0d65295ece4e",
   "metadata": {},
   "outputs": [],
   "source": [
    "#for calculating VIF lets remove the constant that is required for the model\n",
    "X_train_new = X_train_model2.drop(['const'], axis=1)\n",
    "calculate_VIF(X_train_new)"
   ]
  },
  {
   "cell_type": "code",
   "execution_count": null,
   "id": "ad5a61d3-76b3-4e2d-a438-87ceee8d2fab",
   "metadata": {},
   "outputs": [],
   "source": [
    "# To take decision on what variables to drop, lets now check with VIF\n"
   ]
  },
  {
   "cell_type": "markdown",
   "id": "e0d84a5c-750d-414e-af47-0cf0bfd1c591",
   "metadata": {},
   "source": [
    "### Model 3 - remove the one having p-value  Saturday"
   ]
  },
  {
   "cell_type": "code",
   "execution_count": null,
   "id": "c0a36965-1627-408c-8b79-2f9db4fa9432",
   "metadata": {},
   "outputs": [],
   "source": [
    "X_train_model3 = X_train_model2.drop(['Saturday'], axis=1)"
   ]
  },
  {
   "cell_type": "code",
   "execution_count": null,
   "id": "ac6ebecd-435b-41f6-895b-0e409f5e34fa",
   "metadata": {},
   "outputs": [],
   "source": [
    "X_train_model3 = sm.add_constant(X_train_model3)\n",
    "\n",
    "lm_model3 = sm.OLS(y_train,X_train_model3).fit()\n",
    "\n",
    "lm_model3.summary()"
   ]
  },
  {
   "cell_type": "code",
   "execution_count": null,
   "id": "3edb3fd2-2052-404b-9a6e-c32086a823cc",
   "metadata": {},
   "outputs": [],
   "source": [
    "#for calculating VIF lets remove the constant that is required for the model\n",
    "X_train_new = X_train_model3.drop(['const'], axis=1)\n",
    "calculate_VIF(X_train_new)"
   ]
  },
  {
   "cell_type": "markdown",
   "id": "c179160a-a3b7-4140-907f-d01e1f5d4868",
   "metadata": {},
   "source": [
    "### Model 4 - Remove the highest VIF - Humidity"
   ]
  },
  {
   "cell_type": "code",
   "execution_count": null,
   "id": "2e1fc9e3-c2b4-4eb5-a6ee-36aabf5790de",
   "metadata": {},
   "outputs": [],
   "source": [
    "X_train_model4 = X_train_model3.drop(['hum'], axis=1)\n",
    "X_train_model4 = sm.add_constant(X_train_model4)\n",
    "\n",
    "lm_model4 = sm.OLS(y_train,X_train_model4).fit()\n",
    "\n",
    "lm_model4.summary()"
   ]
  },
  {
   "cell_type": "code",
   "execution_count": null,
   "id": "5687de2f-4b3a-4131-b7fb-33ebc0496906",
   "metadata": {},
   "outputs": [],
   "source": [
    "#for calculating VIF lets remove the constant that is required for the model\n",
    "X_train_new = X_train_model4.drop(['const'], axis=1)\n",
    "calculate_VIF(X_train_new)"
   ]
  },
  {
   "cell_type": "markdown",
   "id": "2cb00907-04d2-4bfd-a958-20b2f208ca16",
   "metadata": {},
   "source": [
    "### Model 5 - Remove December having high p-value"
   ]
  },
  {
   "cell_type": "code",
   "execution_count": null,
   "id": "164730a3-d6d7-4a2b-b2eb-cb7f6ee16e00",
   "metadata": {},
   "outputs": [],
   "source": [
    "X_train_model5 = X_train_model4.drop(['Dec'], axis=1)\n",
    "X_train_model5 = sm.add_constant(X_train_model5)\n",
    "\n",
    "lm_model5 = sm.OLS(y_train,X_train_model5).fit()\n",
    "\n",
    "lm_model5.summary()"
   ]
  },
  {
   "cell_type": "code",
   "execution_count": null,
   "id": "b641eff0-0b69-4692-9384-b7f3a898de38",
   "metadata": {},
   "outputs": [],
   "source": [
    "X_train_new = X_train_model5.drop(['const'], axis=1)\n",
    "\n",
    "calculate_VIF(X_train_new)"
   ]
  },
  {
   "cell_type": "markdown",
   "id": "afa2deec-91de-425e-8d6c-fb15615921b7",
   "metadata": {},
   "source": [
    "### Model 6 - Remove January having high p-value"
   ]
  },
  {
   "cell_type": "code",
   "execution_count": null,
   "id": "0236e159-14d6-45c5-a618-dbdfaa828d7a",
   "metadata": {},
   "outputs": [],
   "source": [
    "X_train_model6 = X_train_model5.drop(['Jan'], axis=1)\n",
    "X_train_model6 = sm.add_constant(X_train_model6)\n",
    "\n",
    "lm_model6 = sm.OLS(y_train,X_train_model6).fit()\n",
    "\n",
    "lm_model6.summary()"
   ]
  },
  {
   "cell_type": "code",
   "execution_count": null,
   "id": "5920fe96-d154-49ac-bc90-417bb7fd54b8",
   "metadata": {},
   "outputs": [],
   "source": [
    "X_train_new = X_train_model6.drop(['const'], axis=1)\n",
    "\n",
    "calculate_VIF(X_train_new)"
   ]
  },
  {
   "cell_type": "markdown",
   "id": "46818960-ff76-4f57-a281-9250d207c026",
   "metadata": {},
   "source": [
    "## 5. Residual Analysis"
   ]
  },
  {
   "cell_type": "code",
   "execution_count": null,
   "id": "28159581-5a86-4ccb-a883-00e246c8c80f",
   "metadata": {},
   "outputs": [],
   "source": [
    "y_train_pred = lm_model6.predict(X_train_model6)"
   ]
  },
  {
   "cell_type": "code",
   "execution_count": null,
   "id": "949cb0a5-5661-4930-bed5-352533706543",
   "metadata": {},
   "outputs": [],
   "source": [
    "res = y_train - y_train_pred\n",
    "sns.distplot(res)"
   ]
  },
  {
   "cell_type": "markdown",
   "id": "e7bbceda-1c6b-4ec0-9a76-bba7192a7d80",
   "metadata": {},
   "source": [
    "## 6. Prediction & evaluation of the test set"
   ]
  },
  {
   "cell_type": "code",
   "execution_count": null,
   "id": "bb1f70da-3559-4f7f-9f66-d5e30d218b6f",
   "metadata": {},
   "outputs": [],
   "source": [
    "#apply scaler to all categorical columns- temp\tatemp\thum\twindspeed\tcnt\t\n",
    "num_vars = ['temp','atemp', 'hum', 'windspeed','cnt']\n",
    "df_test[num_vars] = scaler.transform(df_test[num_vars])\n",
    "df_test.head()\n"
   ]
  },
  {
   "cell_type": "code",
   "execution_count": null,
   "id": "28cc3b8e-f581-4d7f-97ef-90a274020376",
   "metadata": {},
   "outputs": [],
   "source": [
    "# Diving into X & y set for model building\n",
    "y_test = df_test.pop('cnt')\n",
    "X_test = df_test"
   ]
  },
  {
   "cell_type": "code",
   "execution_count": null,
   "id": "85936627-39d9-4074-85dc-e82a521d9941",
   "metadata": {},
   "outputs": [],
   "source": [
    "X_test_new = X_test[X_train_model6.drop(['const'], axis=1).columns]"
   ]
  },
  {
   "cell_type": "code",
   "execution_count": null,
   "id": "72cf5c36-3673-4855-9009-070e702c04ed",
   "metadata": {},
   "outputs": [],
   "source": [
    "X_test_new.head()"
   ]
  },
  {
   "cell_type": "code",
   "execution_count": null,
   "id": "02e41959-c58f-4c75-968e-1fa56347e596",
   "metadata": {},
   "outputs": [],
   "source": [
    "# Adding a constant variable \n",
    "X_test_new = sm.add_constant(X_test_new)\n",
    "# Making predictions\n",
    "y_test_pred = lm_model6.predict(X_test_new)"
   ]
  },
  {
   "cell_type": "code",
   "execution_count": null,
   "id": "7d784d38-931f-466c-9f29-96e86e5b7a53",
   "metadata": {},
   "outputs": [],
   "source": [
    "res = y_test - y_test_pred\n",
    "sns.distplot(res)"
   ]
  },
  {
   "cell_type": "markdown",
   "id": "2d7e90a9-f982-46c0-ba97-59ff0dd82b9b",
   "metadata": {},
   "source": [
    "## 7. Model Evaluation"
   ]
  },
  {
   "cell_type": "code",
   "execution_count": null,
   "id": "618320ec-23db-444b-88ea-8fef2e244157",
   "metadata": {},
   "outputs": [],
   "source": [
    "\n",
    "# Plotting y_test and y_pred to understand the spread.\n",
    "fig = plt.figure()\n",
    "plt.scatter(y_test,y_test_pred)\n",
    "fig.suptitle('y_test vs y_test_pred', fontsize=20)              # Plot heading \n",
    "plt.xlabel('y_test', fontsize=18)                          # X-label\n",
    "plt.ylabel('y_test_pred', fontsize=16)                          # Y-label"
   ]
  },
  {
   "cell_type": "markdown",
   "id": "d7b62339-91a1-48f6-b2c4-9e124aa38869",
   "metadata": {},
   "source": [
    "## 8. R2 Score"
   ]
  },
  {
   "cell_type": "code",
   "execution_count": null,
   "id": "9f2efdf6-2262-408f-9f55-87705ab6a2af",
   "metadata": {},
   "outputs": [],
   "source": [
    "from sklearn.metrics import r2_score\n",
    "r2_score(y_test, y_test_pred)"
   ]
  },
  {
   "cell_type": "code",
   "execution_count": null,
   "id": "6b8afae3-bb10-46e8-a1ff-abca0212b9c5",
   "metadata": {},
   "outputs": [],
   "source": []
  }
 ],
 "metadata": {
  "kernelspec": {
   "display_name": "Python 3 (ipykernel)",
   "language": "python",
   "name": "python3"
  },
  "language_info": {
   "codemirror_mode": {
    "name": "ipython",
    "version": 3
   },
   "file_extension": ".py",
   "mimetype": "text/x-python",
   "name": "python",
   "nbconvert_exporter": "python",
   "pygments_lexer": "ipython3",
   "version": "3.12.4"
  }
 },
 "nbformat": 4,
 "nbformat_minor": 5
}
